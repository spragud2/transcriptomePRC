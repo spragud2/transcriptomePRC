{
 "cells": [
  {
   "cell_type": "code",
   "execution_count": 1,
   "metadata": {},
   "outputs": [],
   "source": [
    "import pickle\n",
    "import pandas as pd\n",
    "import glob"
   ]
  },
  {
   "cell_type": "code",
   "execution_count": 9,
   "metadata": {},
   "outputs": [],
   "source": [
    "haha = {}\n",
    "\n",
    "files = [f for f in glob.iglob('*2LR*p')]"
   ]
  },
  {
   "cell_type": "code",
   "execution_count": 10,
   "metadata": {},
   "outputs": [],
   "source": [
    "for file in files:\n",
    "    haha[file[:-2]] = pickle.load(open(file,'rb'))"
   ]
  },
  {
   "cell_type": "code",
   "execution_count": 11,
   "metadata": {},
   "outputs": [
    {
     "data": {
      "text/plain": [
       "['fixed_mm10_lncRNAspliced_2_100win_20slide_2LRcutoff_MARKOV.p',\n",
       " 'fixed_mm10_lncRNAunspliced_2_100win_20slide_2LRcutoff_MARKOV.p',\n",
       " 'cislncs_unspliced_2_100win_20slide_2LRcutoff_MARKOV.p',\n",
       " 'fixed_mm10_pcspliced_2_100win_20slide_2LRcutoff_MARKOV.p',\n",
       " 'cislnc_SPLICED_2_100win_20slide_2LRcutoff_MARKOV.p',\n",
       " 'fixed_mm10_pctranscripts_2_100win_20slide_2LRcutoff_MARKOV.p']"
      ]
     },
     "execution_count": 11,
     "metadata": {},
     "output_type": "execute_result"
    }
   ],
   "source": [
    "files"
   ]
  },
  {
   "cell_type": "code",
   "execution_count": 12,
   "metadata": {},
   "outputs": [],
   "source": [
    "df = pd.DataFrame.from_dict(haha)"
   ]
  },
  {
   "cell_type": "code",
   "execution_count": 13,
   "metadata": {},
   "outputs": [],
   "source": [
    "agg = {}\n",
    "for col in df.columns:\n",
    "    l = []\n",
    "    for val in df[col].values:\n",
    "        if isinstance(val,list):\n",
    "            l.append(val[1]*1000)\n",
    "    agg[col] = l"
   ]
  },
  {
   "cell_type": "code",
   "execution_count": 20,
   "metadata": {},
   "outputs": [],
   "source": [
    "df = pd.DataFrame.from_dict(agg,orient='index')\n",
    "df = df.T"
   ]
  },
  {
   "cell_type": "code",
   "execution_count": 21,
   "metadata": {},
   "outputs": [
    {
     "data": {
      "text/plain": [
       "Index(['fixed_mm10_lncRNAspliced_2_100win_20slide_2LRcutoff_MARKOV',\n",
       "       'fixed_mm10_lncRNAunspliced_2_100win_20slide_2LRcutoff_MARKOV',\n",
       "       'cislncs_unspliced_2_100win_20slide_2LRcutoff_MARKOV',\n",
       "       'fixed_mm10_pcspliced_2_100win_20slide_2LRcutoff_MARKOV',\n",
       "       'cislnc_SPLICED_2_100win_20slide_2LRcutoff_MARKOV',\n",
       "       'fixed_mm10_pctranscripts_2_100win_20slide_2LRcutoff_MARKOV'],\n",
       "      dtype='object')"
      ]
     },
     "execution_count": 21,
     "metadata": {},
     "output_type": "execute_result"
    }
   ],
   "source": [
    "df.columns"
   ]
  },
  {
   "cell_type": "code",
   "execution_count": 22,
   "metadata": {},
   "outputs": [],
   "source": [
    "df.columns = ['lncS','lncU','CLU','PCS','CLS','PCU']\n",
    "df = df[['CLU','CLS','lncS','lncU','PCS','PCU']]\n",
    "df.drop('CLS',inplace=True,axis=1)"
   ]
  },
  {
   "cell_type": "code",
   "execution_count": 23,
   "metadata": {},
   "outputs": [],
   "source": [
    "import seaborn as sns\n",
    "import matplotlib.pyplot as plt"
   ]
  },
  {
   "cell_type": "code",
   "execution_count": 32,
   "metadata": {},
   "outputs": [
    {
     "data": {
      "image/png": "[encoded data removed]",
      "text/plain": [
       "<Figure size 360x360 with 1 Axes>"
      ]
     },
     "metadata": {
      "needs_background": "light"
     },
     "output_type": "display_data"
    }
   ],
   "source": [
    "sns.set_context('talk',font_scale=1.6)\n",
    "plt.figure(figsize=(5,5))\n",
    "sns.boxplot(data=df,showfliers=False)\n",
    "plt.xticks(rotation=90)\n",
    "plt.ylabel('Summed Hits (per kB)')\n",
    "plt.tight_layout()\n",
    "plt.savefig('./100w20s_markov_2LR.pdf',bbox_inches='tight')"
   ]
  },
  {
   "cell_type": "code",
   "execution_count": 34,
   "metadata": {},
   "outputs": [],
   "source": [
    "import numpy as np"
   ]
  },
  {
   "cell_type": "code",
   "execution_count": 35,
   "metadata": {},
   "outputs": [],
   "source": [
    "agg = np.load('/Users/danielsprague/Documents/Lab/03_07_2019/bmodel_2mers.mkv.npy')"
   ]
  },
  {
   "cell_type": "code",
   "execution_count": 36,
   "metadata": {},
   "outputs": [
    {
     "data": {
      "text/plain": [
       "array([[0.18147689, 0.13608337, 0.31828729, 0.36415246],\n",
       "       [0.26392149, 0.14748169, 0.36856543, 0.22003139],\n",
       "       [0.24835453, 0.18032789, 0.55104952, 0.02026805],\n",
       "       [0.20656204, 0.13156056, 0.36033327, 0.15868698]])"
      ]
     },
     "execution_count": 36,
     "metadata": {},
     "output_type": "execute_result"
    }
   ],
   "source": [
    "agg"
   ]
  },
  {
   "cell_type": "code",
   "execution_count": null,
   "metadata": {},
   "outputs": [],
   "source": []
  }
 ],
 "metadata": {
  "kernelspec": {
   "display_name": "Python 3",
   "language": "python",
   "name": "python3"
  },
  "language_info": {
   "codemirror_mode": {
    "name": "ipython",
    "version": 3
   },
   "file_extension": ".py",
   "mimetype": "text/x-python",
   "name": "python",
   "nbconvert_exporter": "python",
   "pygments_lexer": "ipython3",
   "version": "3.7.2"
  }
 },
 "nbformat": 4,
 "nbformat_minor": 2
}
