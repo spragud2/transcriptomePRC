{
 "cells": [
  {
   "cell_type": "code",
   "execution_count": 3,
   "metadata": {},
   "outputs": [],
   "source": [
    "import pickle\n",
    "import pandas as pd\n",
    "import glob"
   ]
  },
  {
   "cell_type": "code",
   "execution_count": 4,
   "metadata": {},
   "outputs": [],
   "source": [
    "haha = {}\n",
    "\n",
    "files = [f for f in glob.iglob('*p')]"
   ]
  },
  {
   "cell_type": "code",
   "execution_count": 5,
   "metadata": {},
   "outputs": [],
   "source": [
    "for file in files:\n",
    "    haha[file[:-2]] = pickle.load(open(file,'rb'))"
   ]
  },
  {
   "cell_type": "code",
   "execution_count": 9,
   "metadata": {},
   "outputs": [],
   "source": [
    "df = pd.DataFrame.from_dict(haha)"
   ]
  },
  {
   "cell_type": "code",
   "execution_count": 11,
   "metadata": {},
   "outputs": [
    {
     "data": {
      "text/plain": [
       ">ENSMUSG00000000001|ENSMUST00000000001|-1|108107280|108146146                                                        NaN\n",
       ">ENSMUSG00000000003|ENSMUST00000000003|-1|77837901|77853623                                                          NaN\n",
       ">ENSMUSG00000000003|ENSMUST00000114041|-1|77837902|77853530                                                          NaN\n",
       ">ENSMUSG00000000028|ENSMUST00000000028|-1|18780447|18811972                                                          NaN\n",
       ">ENSMUSG00000000028|ENSMUST00000096990|-1|18780453|18811626                                                          NaN\n",
       ">ENSMUSG00000000028|ENSMUST00000115585|-1|18807356|18811987                                                          NaN\n",
       ">ENSMUSG00000000028|ENSMUST00000231819|-1|18810108|18811591                                                          NaN\n",
       ">ENSMUSG00000000031|ENSMUST00000132294|-1|142575531|142576910                                                        NaN\n",
       ">ENSMUSG00000000031|ENSMUST00000132294|142575531|142576910|-1                                                        NaN\n",
       ">ENSMUSG00000000031|ENSMUST00000136359|-1|142575529|142578143                                                        NaN\n",
       ">ENSMUSG00000000031|ENSMUST00000136359|142575529|142578143|-1                                                        NaN\n",
       ">ENSMUSG00000000031|ENSMUST00000140716|-1|142575634|142576538                                                        NaN\n",
       ">ENSMUSG00000000031|ENSMUST00000140716|142575634|142576538|-1                                                        NaN\n",
       ">ENSMUSG00000000031|ENSMUST00000149974|-1|142576507|142578095                                                        NaN\n",
       ">ENSMUSG00000000031|ENSMUST00000149974|142576507|142578095|-1                                                        NaN\n",
       ">ENSMUSG00000000031|ENSMUST00000152754|-1|142575533|142577386                                                        NaN\n",
       ">ENSMUSG00000000031|ENSMUST00000152754|142575533|142577386|-1                                                        NaN\n",
       ">ENSMUSG00000000031|ENSMUST00000228259|-1|142576982|142577933                                                        NaN\n",
       ">ENSMUSG00000000031|ENSMUST00000228259|142576982|142577933|-1                                                        NaN\n",
       ">ENSMUSG00000000031|ENSMUST00000228514|-1|142575531|142576959                                                        NaN\n",
       ">ENSMUSG00000000031|ENSMUST00000228514|142575531|142576959|-1                                                        NaN\n",
       ">ENSMUSG00000000037|ENSMUST00000019101|1|161162772|161258196                                                         NaN\n",
       ">ENSMUSG00000000037|ENSMUST00000074802|1|161162750|161256952                                                         NaN\n",
       ">ENSMUSG00000000037|ENSMUST00000077375|1|161163060|161255659                                                         NaN\n",
       ">ENSMUSG00000000037|ENSMUST00000087090|1|161124268|161256886                                                         NaN\n",
       ">ENSMUSG00000000037|ENSMUST00000101113|1|161117193|161256900                                                         NaN\n",
       ">ENSMUSG00000000037|ENSMUST00000112345|1|161162772|161258213                                                         NaN\n",
       ">ENSMUSG00000000037|ENSMUST00000124775|1|161234573|161239864                                                         NaN\n",
       ">ENSMUSG00000000049|ENSMUST00000000049|1|108395293|108414396                                                         NaN\n",
       ">ENSMUSG00000000049|ENSMUST00000133383|1|108343354|108395905                                                         NaN\n",
       "                                                                                                                 ...    \n",
       ">ENSMUSG00000118384|ENSMUST00000237753|74972764|74981547|-1                                                          NaN\n",
       ">ENSMUSG00000118385|ENSMUST00000238064|1|84202924|84209674                                                           NaN\n",
       ">ENSMUSG00000118385|ENSMUST00000238064|84202924|84209674|1                                                           NaN\n",
       ">ENSMUSG00000118386|ENSMUST00000238050|1|35498661|35499293                                                           NaN\n",
       ">ENSMUSG00000118386|ENSMUST00000238050|35498661|35499293|1                                                           NaN\n",
       ">ENSMUSG00000118387|ENSMUST00000236141|1|83490414|83494417                                                           NaN\n",
       ">ENSMUSG00000118387|ENSMUST00000236141|83490414|83494417|1                                                           NaN\n",
       ">ENSMUSG00000118388|ENSMUST00000078475|-1|5883580|5884542                                                            NaN\n",
       ">ENSMUSG00000118391|ENSMUST00000235775|-1|57774166|57779995                                                          NaN\n",
       ">ENSMUSG00000118391|ENSMUST00000235775|57774166|57779995|-1                                                          NaN\n",
       ">ENSMUSG00000118391|ENSMUST00000236754|-1|57730336|57747565                                                          NaN\n",
       ">ENSMUSG00000118391|ENSMUST00000236754|57730336|57747565|-1                                                          NaN\n",
       ">ENSMUSG00000118391|ENSMUST00000236807|-1|57775609|57792333                                                          NaN\n",
       ">ENSMUSG00000118391|ENSMUST00000236807|57775609|57792333|-1                                                          NaN\n",
       ">ENSMUSG00000118391|ENSMUST00000236816|-1|57688646|57792360                                                          NaN\n",
       ">ENSMUSG00000118391|ENSMUST00000236816|57688646|57792360|-1                                                          NaN\n",
       ">ENSMUSG00000118392|ENSMUST00000236337|-1|10645690|10648053                                                          NaN\n",
       ">ENSMUSG00000118392|ENSMUST00000236337|10645690|10648053|-1                                                          NaN\n",
       ">ENST00000597346.1|ENSG00000269821.1|OTTHUMG00000171022.2|OTTHUMT00000411275.2|KCNQ1OT1-001|KCNQ1OT1|91667|    [[], 0.0]\n",
       ">TSIX-201|TSIX-201|TSIX-201|TSIX-201|TSIX-201|TSIX-201|53442|                                                  [[], 0.0]\n",
       ">mm10_dna range=chr2:128298663-128429351 5'pad=0 3'pad=0 strand=- repeatMasking=none                           [[], 0.0]\n",
       ">mm10_dna range=chr6:52102949-52114877 5'pad=0 3'pad=0 strand=+ repeatMasking=none                             [[], 0.0]\n",
       ">mm10_knownGene_uc012akd.1 range=chr17:12741311-12815557 5'pad=0 3'pad=0 strand=+ repeatMasking=none                 NaN\n",
       ">mm10_knownGene_uc012ckw.1 range=chr2:174281237-174295436 5'pad=0 3'pad=0 strand=- repeatMasking=none                NaN\n",
       ">mm10_knownGene_uc012hnd.1 range=chrX:103431517-103484957 5'pad=0 3'pad=0 strand=+ repeatMasking=none                NaN\n",
       ">||||AIRN88-201||88813|                                                                                        [[], 0.0]\n",
       ">||||HAUNT-001||3400|                                                                                                NaN\n",
       ">||||MORRBID-001||2797|                                                                                              NaN\n",
       ">||||NESPAS_GENOMIC-001||14200|                                                                                [[], 0.0]\n",
       ">||||UBE3A_LONG-201||911470|                                                                                   [[], 0.0]\n",
       "Name: cislncs_unspliced_2_99_100win_20slide_scores_MARKOV, Length: 130348, dtype: object"
      ]
     },
     "execution_count": 11,
     "metadata": {},
     "output_type": "execute_result"
    }
   ],
   "source": [
    "df['cislncs_unspliced_2_99_100win_20slide_scores_MARKOV']"
   ]
  },
  {
   "cell_type": "code",
   "execution_count": null,
   "metadata": {},
   "outputs": [],
   "source": []
  }
 ],
 "metadata": {
  "kernelspec": {
   "display_name": "Python 3",
   "language": "python",
   "name": "python3"
  },
  "language_info": {
   "codemirror_mode": {
    "name": "ipython",
    "version": 3
   },
   "file_extension": ".py",
   "mimetype": "text/x-python",
   "name": "python",
   "nbconvert_exporter": "python",
   "pygments_lexer": "ipython3",
   "version": "3.7.2"
  }
 },
 "nbformat": 4,
 "nbformat_minor": 2
}
