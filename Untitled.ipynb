{
 "cells": [
  {
   "cell_type": "code",
   "execution_count": 1,
   "metadata": {},
   "outputs": [],
   "source": [
    "import pickle\n",
    "import pandas as pd\n",
    "import glob"
   ]
  },
  {
   "cell_type": "code",
   "execution_count": 5,
   "metadata": {},
   "outputs": [],
   "source": [
    "haha = {}\n",
    "\n",
    "files = [f for f in glob.iglob('*200win*p')]"
   ]
  },
  {
   "cell_type": "code",
   "execution_count": 6,
   "metadata": {},
   "outputs": [],
   "source": [
    "for file in files:\n",
    "    haha[file[:-2]] = pickle.load(open(file,'rb'))"
   ]
  },
  {
   "cell_type": "code",
   "execution_count": 7,
   "metadata": {},
   "outputs": [
    {
     "data": {
      "text/plain": [
       "['fixed_mm10_lncRNAspliced_2_99_200win_20slide_scores_MARKOV.p',\n",
       " 'fixed_mm10_lncRNAunspliced_2_99_200win_20slide_scores_MARKOV.p',\n",
       " 'fixed_mm10_pctranscripts_2_99_200win_20slide_scores_MARKOV.p',\n",
       " 'cislncs_unspliced_2_99_200win_20slide_scores_MARKOV.p',\n",
       " 'fixed_mm10_pcspliced_2_99_200win_20slide_scores_MARKOV.p',\n",
       " 'cislnc_SPLICED_2_99_200win_20slide_scores_MARKOV.p']"
      ]
     },
     "execution_count": 7,
     "metadata": {},
     "output_type": "execute_result"
    }
   ],
   "source": [
    "files"
   ]
  },
  {
   "cell_type": "code",
   "execution_count": 8,
   "metadata": {},
   "outputs": [],
   "source": [
    "df = pd.DataFrame.from_dict(haha)"
   ]
  },
  {
   "cell_type": "code",
   "execution_count": 9,
   "metadata": {},
   "outputs": [],
   "source": [
    "agg = {}\n",
    "for col in df.columns:\n",
    "    l = []\n",
    "    for val in df[col].values:\n",
    "        if isinstance(val,list):\n",
    "            l.append(val[1])\n",
    "    agg[col] = l"
   ]
  },
  {
   "cell_type": "code",
   "execution_count": 17,
   "metadata": {},
   "outputs": [],
   "source": [
    "df = pd.DataFrame.from_dict(agg,orient='index')\n",
    "df = df.T"
   ]
  },
  {
   "cell_type": "code",
   "execution_count": 18,
   "metadata": {},
   "outputs": [
    {
     "data": {
      "text/plain": [
       "Index(['fixed_mm10_lncRNAspliced_2_99_200win_20slide_scores_MARKOV',\n",
       "       'fixed_mm10_lncRNAunspliced_2_99_200win_20slide_scores_MARKOV',\n",
       "       'fixed_mm10_pctranscripts_2_99_200win_20slide_scores_MARKOV',\n",
       "       'cislncs_unspliced_2_99_200win_20slide_scores_MARKOV',\n",
       "       'fixed_mm10_pcspliced_2_99_200win_20slide_scores_MARKOV',\n",
       "       'cislnc_SPLICED_2_99_200win_20slide_scores_MARKOV'],\n",
       "      dtype='object')"
      ]
     },
     "execution_count": 18,
     "metadata": {},
     "output_type": "execute_result"
    }
   ],
   "source": [
    "df.columns"
   ]
  },
  {
   "cell_type": "code",
   "execution_count": 19,
   "metadata": {},
   "outputs": [],
   "source": [
    "df.columns = ['LS','LU','PCU','CLU','PCS','CLS']\n",
    "df = df[['CLU','CLS','LS','LU','PCS','PCU']]\n",
    "df.drop('CLS',inplace=True,axis=1)"
   ]
  },
  {
   "cell_type": "code",
   "execution_count": 20,
   "metadata": {},
   "outputs": [],
   "source": [
    "import seaborn as sns\n",
    "import matplotlib.pyplot as plt"
   ]
  },
  {
   "cell_type": "code",
   "execution_count": 21,
   "metadata": {},
   "outputs": [
    {
     "data": {
      "image/png": "[encoded data removed]",
      "text/plain": [
       "<Figure size 432x288 with 1 Axes>"
      ]
     },
     "metadata": {
      "needs_background": "light"
     },
     "output_type": "display_data"
    }
   ],
   "source": [
    "sns.boxplot(data=df,showfliers=False)\n",
    "plt.xticks(rotation=90)\n",
    "plt.tight_layout()\n",
    "plt.savefig('./200w20s_markov.pdf')"
   ]
  },
  {
   "cell_type": "code",
   "execution_count": null,
   "metadata": {},
   "outputs": [],
   "source": []
  }
 ],
 "metadata": {
  "kernelspec": {
   "display_name": "Python 3",
   "language": "python",
   "name": "python3"
  },
  "language_info": {
   "codemirror_mode": {
    "name": "ipython",
    "version": 3
   },
   "file_extension": ".py",
   "mimetype": "text/x-python",
   "name": "python",
   "nbconvert_exporter": "python",
   "pygments_lexer": "ipython3",
   "version": "3.7.2"
  }
 },
 "nbformat": 4,
 "nbformat_minor": 2
}
